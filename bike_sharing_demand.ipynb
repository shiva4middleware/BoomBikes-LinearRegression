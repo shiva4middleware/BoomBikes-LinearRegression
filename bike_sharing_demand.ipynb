# Importing necessary libraries
import pandas as pd
import numpy as np
import matplotlib.pyplot as plt
import seaborn as sns
from sklearn.model_selection import train_test_split
from sklearn.linear_model import LinearRegression
from sklearn.metrics import r2_score
from statsmodels.stats.outliers_influence import variance_inflation_factor

# Set plot style
sns.set(style="whitegrid")

# Load the dataset
df = pd.read_csv('bike_sharing.csv')
print(df.head())

# Basic information about the dataset
print(df.info())

# Check for missing values
print(df.isnull().sum())

# Convert 'season' and 'weathersit' to categorical string values
df['season'] = df['season'].replace({1: 'spring', 2: 'summer', 3: 'fall', 4: 'winter'})
df['weathersit'] = df['weathersit'].replace({1: 'clear', 2: 'mist', 3: 'light_rain', 4: 'heavy_rain'})

# Convert categorical columns to dummy variables
df = pd.get_dummies(df, columns=['season', 'weathersit'], drop_first=True)

# Drop 'casual' and 'registered' columns as the target variable is 'cnt'
df.drop(['casual', 'registered'], axis=1, inplace=True)

# Correlation matrix to check multicollinearity
plt.figure(figsize=(12, 10))
sns.heatmap(df.corr(), annot=True, cmap='coolwarm')
plt.show()

# Split data into features and target
X = df.drop(['cnt'], axis=1)
y = df['cnt']

# Add constant for VIF calculation
X_with_const = sm.add_constant(X)

# Calculate VIF to check for multicollinearity
vif = pd.DataFrame()
vif['Features'] = X.columns
vif['VIF'] = [variance_inflation_factor(X_with_const.values, i) for i in range(X_with_const.shape[1])]
print(vif)

# Split the data into train and test sets
X_train, X_test, y_train, y_test = train_test_split(X, y, test_size=0.3, random_state=42)

# Train the Linear Regression model
model = LinearRegression()
model.fit(X_train, y_train)

# Print model coefficients
coefficients = pd.DataFrame(model.coef_, X.columns, columns=['Coefficient'])
print(coefficients)

# Predict on the test set
y_pred = model.predict(X_test)

# Calculate R-squared score
r2 = r2_score(y_test, y_pred)
print(f"R-squared Score: {r2:.4f}")

# Residual Analysis
residuals = y_test - y_pred

plt.figure(figsize=(10, 6))
sns.scatterplot(y_test, residuals)
plt.axhline(y=0, color='red', linestyle='--')
plt.xlabel('Actual Demand')
plt.ylabel('Residuals')
plt.title('Residual Analysis')
plt.show()
